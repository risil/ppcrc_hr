{
  "nbformat": 4,
  "nbformat_minor": 0,
  "metadata": {
    "colab": {
      "provenance": []
    },
    "kernelspec": {
      "name": "python3",
      "display_name": "Python 3"
    },
    "language_info": {
      "name": "python"
    }
  },
  "cells": [
    {
      "cell_type": "code",
      "execution_count": 57,
      "metadata": {
        "id": "_VA0QauuSfo4"
      },
      "outputs": [],
      "source": [
        "import pandas as pd\n",
        "import re\n",
        "from nltk.corpus import wordnet\n",
        "from sklearn.feature_extraction.text import TfidfVectorizer\n",
        "from sklearn.metrics.pairwise import cosine_similarity\n",
        "from nltk.stem.wordnet import WordNetLemmatizer\n",
        "from nltk.corpus import stopwords as stp\n",
        "from sklearn.feature_extraction.text import CountVectorizer"
      ]
    },
    {
      "cell_type": "code",
      "source": [
        "from google.colab import drive\n",
        "drive.mount('/content/drive')"
      ],
      "metadata": {
        "colab": {
          "base_uri": "https://localhost:8080/"
        },
        "id": "LIguGhLcSuvx",
        "outputId": "2903837a-e110-4406-9fd2-021ce7f35d3f"
      },
      "execution_count": 12,
      "outputs": [
        {
          "output_type": "stream",
          "name": "stdout",
          "text": [
            "Drive already mounted at /content/drive; to attempt to forcibly remount, call drive.mount(\"/content/drive\", force_remount=True).\n"
          ]
        }
      ]
    },
    {
      "cell_type": "code",
      "source": [
        "df = pd.read_csv('/content/drive/MyDrive/FeatureEngineering/Res_data.csv')\n",
        "df_cp = df.copy()"
      ],
      "metadata": {
        "id": "Vlm60F0VTJ3Q"
      },
      "execution_count": 58,
      "outputs": []
    },
    {
      "cell_type": "code",
      "source": [
        "df.head()"
      ],
      "metadata": {
        "colab": {
          "base_uri": "https://localhost:8080/",
          "height": 293
        },
        "id": "98NtpgcpTL5Y",
        "outputId": "659f1908-add6-4431-fa53-3471c84dd519"
      },
      "execution_count": 59,
      "outputs": [
        {
          "output_type": "execute_result",
          "data": {
            "text/plain": [
              "                 Name                                              Email  \\\n",
              "0        Prasad Nagar  ['nathan.johnson567@example.com', 'liam.jones7...   \n",
              "1  AKSHAY DESHBHRATAR  ['hannah.davis890@gmail.com', 'jackson.thompso...   \n",
              "2    kaashiv infotech  ['olivia.martinez456@yahoo.com', 'abigail.whit...   \n",
              "3       Aaditya Singh  ['ethan.jackson345@example.com', 'sophia.mille...   \n",
              "4        Aakash Singh  ['avery.anderson123@hotmail.com', 'mia.wilson4...   \n",
              "\n",
              "                  Mobile_Number  \\\n",
              "0  ['1234567890', '2345678901']   \n",
              "1  ['3456789012', '4567890123']   \n",
              "2  ['5678901234', '6789012345']   \n",
              "3  ['7890123456', '8901234567']   \n",
              "4  ['9012345678', '0123456789']   \n",
              "\n",
              "                                              Skills         Education  \\\n",
              "0     ['Python', 'Java', 'JavaScript', 'SQL', 'CSS']  ('BTECH','2020')   \n",
              "1               ['HTML', 'C++', 'C#', 'Ruby', 'PHP']  ('BTECH','2020')   \n",
              "2  ['Swift', 'Objective-C', 'React', 'Angular', '...  ('BTECH','2020')   \n",
              "3  ['Express.js', 'Django', 'Flask', 'Vue.js', 'B...  ('BTECH','2020')   \n",
              "4  ['MongoDB', 'MySQL', 'PostgreSQL', 'SQLite', '...  ('BTECH','2020')   \n",
              "\n",
              "   Experience  \n",
              "0           6  \n",
              "1           5  \n",
              "2           3  \n",
              "3           1  \n",
              "4           7  "
            ],
            "text/html": [
              "\n",
              "  <div id=\"df-383d8ae7-1ada-44a9-b791-693fafb0e5d6\" class=\"colab-df-container\">\n",
              "    <div>\n",
              "<style scoped>\n",
              "    .dataframe tbody tr th:only-of-type {\n",
              "        vertical-align: middle;\n",
              "    }\n",
              "\n",
              "    .dataframe tbody tr th {\n",
              "        vertical-align: top;\n",
              "    }\n",
              "\n",
              "    .dataframe thead th {\n",
              "        text-align: right;\n",
              "    }\n",
              "</style>\n",
              "<table border=\"1\" class=\"dataframe\">\n",
              "  <thead>\n",
              "    <tr style=\"text-align: right;\">\n",
              "      <th></th>\n",
              "      <th>Name</th>\n",
              "      <th>Email</th>\n",
              "      <th>Mobile_Number</th>\n",
              "      <th>Skills</th>\n",
              "      <th>Education</th>\n",
              "      <th>Experience</th>\n",
              "    </tr>\n",
              "  </thead>\n",
              "  <tbody>\n",
              "    <tr>\n",
              "      <th>0</th>\n",
              "      <td>Prasad Nagar</td>\n",
              "      <td>['nathan.johnson567@example.com', 'liam.jones7...</td>\n",
              "      <td>['1234567890', '2345678901']</td>\n",
              "      <td>['Python', 'Java', 'JavaScript', 'SQL', 'CSS']</td>\n",
              "      <td>('BTECH','2020')</td>\n",
              "      <td>6</td>\n",
              "    </tr>\n",
              "    <tr>\n",
              "      <th>1</th>\n",
              "      <td>AKSHAY DESHBHRATAR</td>\n",
              "      <td>['hannah.davis890@gmail.com', 'jackson.thompso...</td>\n",
              "      <td>['3456789012', '4567890123']</td>\n",
              "      <td>['HTML', 'C++', 'C#', 'Ruby', 'PHP']</td>\n",
              "      <td>('BTECH','2020')</td>\n",
              "      <td>5</td>\n",
              "    </tr>\n",
              "    <tr>\n",
              "      <th>2</th>\n",
              "      <td>kaashiv infotech</td>\n",
              "      <td>['olivia.martinez456@yahoo.com', 'abigail.whit...</td>\n",
              "      <td>['5678901234', '6789012345']</td>\n",
              "      <td>['Swift', 'Objective-C', 'React', 'Angular', '...</td>\n",
              "      <td>('BTECH','2020')</td>\n",
              "      <td>3</td>\n",
              "    </tr>\n",
              "    <tr>\n",
              "      <th>3</th>\n",
              "      <td>Aaditya Singh</td>\n",
              "      <td>['ethan.jackson345@example.com', 'sophia.mille...</td>\n",
              "      <td>['7890123456', '8901234567']</td>\n",
              "      <td>['Express.js', 'Django', 'Flask', 'Vue.js', 'B...</td>\n",
              "      <td>('BTECH','2020')</td>\n",
              "      <td>1</td>\n",
              "    </tr>\n",
              "    <tr>\n",
              "      <th>4</th>\n",
              "      <td>Aakash Singh</td>\n",
              "      <td>['avery.anderson123@hotmail.com', 'mia.wilson4...</td>\n",
              "      <td>['9012345678', '0123456789']</td>\n",
              "      <td>['MongoDB', 'MySQL', 'PostgreSQL', 'SQLite', '...</td>\n",
              "      <td>('BTECH','2020')</td>\n",
              "      <td>7</td>\n",
              "    </tr>\n",
              "  </tbody>\n",
              "</table>\n",
              "</div>\n",
              "    <div class=\"colab-df-buttons\">\n",
              "\n",
              "  <div class=\"colab-df-container\">\n",
              "    <button class=\"colab-df-convert\" onclick=\"convertToInteractive('df-383d8ae7-1ada-44a9-b791-693fafb0e5d6')\"\n",
              "            title=\"Convert this dataframe to an interactive table.\"\n",
              "            style=\"display:none;\">\n",
              "\n",
              "  <svg xmlns=\"http://www.w3.org/2000/svg\" height=\"24px\" viewBox=\"0 -960 960 960\">\n",
              "    <path d=\"M120-120v-720h720v720H120Zm60-500h600v-160H180v160Zm220 220h160v-160H400v160Zm0 220h160v-160H400v160ZM180-400h160v-160H180v160Zm440 0h160v-160H620v160ZM180-180h160v-160H180v160Zm440 0h160v-160H620v160Z\"/>\n",
              "  </svg>\n",
              "    </button>\n",
              "\n",
              "  <style>\n",
              "    .colab-df-container {\n",
              "      display:flex;\n",
              "      gap: 12px;\n",
              "    }\n",
              "\n",
              "    .colab-df-convert {\n",
              "      background-color: #E8F0FE;\n",
              "      border: none;\n",
              "      border-radius: 50%;\n",
              "      cursor: pointer;\n",
              "      display: none;\n",
              "      fill: #1967D2;\n",
              "      height: 32px;\n",
              "      padding: 0 0 0 0;\n",
              "      width: 32px;\n",
              "    }\n",
              "\n",
              "    .colab-df-convert:hover {\n",
              "      background-color: #E2EBFA;\n",
              "      box-shadow: 0px 1px 2px rgba(60, 64, 67, 0.3), 0px 1px 3px 1px rgba(60, 64, 67, 0.15);\n",
              "      fill: #174EA6;\n",
              "    }\n",
              "\n",
              "    .colab-df-buttons div {\n",
              "      margin-bottom: 4px;\n",
              "    }\n",
              "\n",
              "    [theme=dark] .colab-df-convert {\n",
              "      background-color: #3B4455;\n",
              "      fill: #D2E3FC;\n",
              "    }\n",
              "\n",
              "    [theme=dark] .colab-df-convert:hover {\n",
              "      background-color: #434B5C;\n",
              "      box-shadow: 0px 1px 3px 1px rgba(0, 0, 0, 0.15);\n",
              "      filter: drop-shadow(0px 1px 2px rgba(0, 0, 0, 0.3));\n",
              "      fill: #FFFFFF;\n",
              "    }\n",
              "  </style>\n",
              "\n",
              "    <script>\n",
              "      const buttonEl =\n",
              "        document.querySelector('#df-383d8ae7-1ada-44a9-b791-693fafb0e5d6 button.colab-df-convert');\n",
              "      buttonEl.style.display =\n",
              "        google.colab.kernel.accessAllowed ? 'block' : 'none';\n",
              "\n",
              "      async function convertToInteractive(key) {\n",
              "        const element = document.querySelector('#df-383d8ae7-1ada-44a9-b791-693fafb0e5d6');\n",
              "        const dataTable =\n",
              "          await google.colab.kernel.invokeFunction('convertToInteractive',\n",
              "                                                    [key], {});\n",
              "        if (!dataTable) return;\n",
              "\n",
              "        const docLinkHtml = 'Like what you see? Visit the ' +\n",
              "          '<a target=\"_blank\" href=https://colab.research.google.com/notebooks/data_table.ipynb>data table notebook</a>'\n",
              "          + ' to learn more about interactive tables.';\n",
              "        element.innerHTML = '';\n",
              "        dataTable['output_type'] = 'display_data';\n",
              "        await google.colab.output.renderOutput(dataTable, element);\n",
              "        const docLink = document.createElement('div');\n",
              "        docLink.innerHTML = docLinkHtml;\n",
              "        element.appendChild(docLink);\n",
              "      }\n",
              "    </script>\n",
              "  </div>\n",
              "\n",
              "\n",
              "<div id=\"df-5ef748a3-7314-4622-a3be-ce1120234f63\">\n",
              "  <button class=\"colab-df-quickchart\" onclick=\"quickchart('df-5ef748a3-7314-4622-a3be-ce1120234f63')\"\n",
              "            title=\"Suggest charts.\"\n",
              "            style=\"display:none;\">\n",
              "\n",
              "<svg xmlns=\"http://www.w3.org/2000/svg\" height=\"24px\"viewBox=\"0 0 24 24\"\n",
              "     width=\"24px\">\n",
              "    <g>\n",
              "        <path d=\"M19 3H5c-1.1 0-2 .9-2 2v14c0 1.1.9 2 2 2h14c1.1 0 2-.9 2-2V5c0-1.1-.9-2-2-2zM9 17H7v-7h2v7zm4 0h-2V7h2v10zm4 0h-2v-4h2v4z\"/>\n",
              "    </g>\n",
              "</svg>\n",
              "  </button>\n",
              "\n",
              "<style>\n",
              "  .colab-df-quickchart {\n",
              "    background-color: #E8F0FE;\n",
              "    border: none;\n",
              "    border-radius: 50%;\n",
              "    cursor: pointer;\n",
              "    display: none;\n",
              "    fill: #1967D2;\n",
              "    height: 32px;\n",
              "    padding: 0 0 0 0;\n",
              "    width: 32px;\n",
              "  }\n",
              "\n",
              "  .colab-df-quickchart:hover {\n",
              "    background-color: #E2EBFA;\n",
              "    box-shadow: 0px 1px 2px rgba(60, 64, 67, 0.3), 0px 1px 3px 1px rgba(60, 64, 67, 0.15);\n",
              "    fill: #174EA6;\n",
              "  }\n",
              "\n",
              "  [theme=dark] .colab-df-quickchart {\n",
              "    background-color: #3B4455;\n",
              "    fill: #D2E3FC;\n",
              "  }\n",
              "\n",
              "  [theme=dark] .colab-df-quickchart:hover {\n",
              "    background-color: #434B5C;\n",
              "    box-shadow: 0px 1px 3px 1px rgba(0, 0, 0, 0.15);\n",
              "    filter: drop-shadow(0px 1px 2px rgba(0, 0, 0, 0.3));\n",
              "    fill: #FFFFFF;\n",
              "  }\n",
              "</style>\n",
              "\n",
              "  <script>\n",
              "    async function quickchart(key) {\n",
              "      const charts = await google.colab.kernel.invokeFunction(\n",
              "          'suggestCharts', [key], {});\n",
              "    }\n",
              "    (() => {\n",
              "      let quickchartButtonEl =\n",
              "        document.querySelector('#df-5ef748a3-7314-4622-a3be-ce1120234f63 button');\n",
              "      quickchartButtonEl.style.display =\n",
              "        google.colab.kernel.accessAllowed ? 'block' : 'none';\n",
              "    })();\n",
              "  </script>\n",
              "</div>\n",
              "    </div>\n",
              "  </div>\n"
            ]
          },
          "metadata": {},
          "execution_count": 59
        }
      ]
    },
    {
      "cell_type": "code",
      "source": [
        "df.isnull().sum()"
      ],
      "metadata": {
        "colab": {
          "base_uri": "https://localhost:8080/"
        },
        "id": "mBu6X2CTUy9J",
        "outputId": "062be66e-0018-4c89-9193-f5d19525d015"
      },
      "execution_count": 60,
      "outputs": [
        {
          "output_type": "execute_result",
          "data": {
            "text/plain": [
              "Name             0\n",
              "Email            0\n",
              "Mobile_Number    0\n",
              "Skills           0\n",
              "Education        0\n",
              "Experience       0\n",
              "dtype: int64"
            ]
          },
          "metadata": {},
          "execution_count": 60
        }
      ]
    },
    {
      "cell_type": "code",
      "source": [
        "df['Name'].fillna('Unknown', inplace=True)\n",
        "df['Email'].fillna('missing@example.com', inplace=True)\n",
        "df['Mobile_Number'].fillna('0000000000', inplace=True)\n",
        "df['Skills'].fillna('No Skills', inplace=True)\n",
        "df['Education'].fillna('Unknown', inplace=True)\n",
        "df['Experience'].fillna(0, inplace=True)"
      ],
      "metadata": {
        "id": "2tADZZUOU0pJ"
      },
      "execution_count": 61,
      "outputs": []
    },
    {
      "cell_type": "code",
      "source": [
        "\n",
        "all_degrees = []\n",
        "\n",
        "for degree in df['Education']:\n",
        "    if pd.notna(degree):\n",
        "        # Extract only the degree name by removing year and spaces/dots\n",
        "        degree_name = re.sub(\"[\\s.\\d]\", \"\", str(degree)).upper()\n",
        "        all_degrees.append(degree_name)\n",
        "\n",
        "# Convert the list to a set to get unique degree names\n",
        "unique_degrees = set(all_degrees)\n",
        "\n",
        "print(unique_degrees)\n"
      ],
      "metadata": {
        "colab": {
          "base_uri": "https://localhost:8080/"
        },
        "id": "aS1Mc4XoV8C5",
        "outputId": "e74523ec-3c1a-4991-fede-0eda9a8d7d13"
      },
      "execution_count": 62,
      "outputs": [
        {
          "output_type": "stream",
          "name": "stdout",
          "text": [
            "{\"('BTECH','')\"}\n"
          ]
        }
      ]
    },
    {
      "cell_type": "code",
      "source": [
        "df.Experience.value_counts()"
      ],
      "metadata": {
        "colab": {
          "base_uri": "https://localhost:8080/"
        },
        "id": "S7epHH65ZT1k",
        "outputId": "fb1b84bb-402f-4b72-b145-1bbaa4a2a587"
      },
      "execution_count": 63,
      "outputs": [
        {
          "output_type": "execute_result",
          "data": {
            "text/plain": [
              "5    4\n",
              "3    4\n",
              "1    4\n",
              "7    4\n",
              "6    3\n",
              "Name: Experience, dtype: int64"
            ]
          },
          "metadata": {},
          "execution_count": 63
        }
      ]
    },
    {
      "cell_type": "code",
      "source": [
        "ind = 0\n",
        "for i in df.Experience:\n",
        "  if i < 0:\n",
        "    df.loc[ind,'work_experience'] = i*-1\n",
        "  elif i > 40:\n",
        "    df.loc[ind,'work_experience'] = 0\n",
        "  ind +=1\n",
        "df['Experience'] = df['Experience'].astype(int)"
      ],
      "metadata": {
        "id": "8j5vF_47ZXV3"
      },
      "execution_count": 64,
      "outputs": []
    },
    {
      "cell_type": "code",
      "source": [
        "lemmatizer = WordNetLemmatizer()\n",
        "analyzer = CountVectorizer().build_analyzer()\n",
        "\n",
        "def stemmed_words(doc):\n",
        "    return (lemmatizer.lemmatize(w,get_wordnet_pos(w)) for w in analyzer(doc) if w not in set(stp.words('english')))"
      ],
      "metadata": {
        "id": "A-dedPK2Zf8D"
      },
      "execution_count": 65,
      "outputs": []
    },
    {
      "cell_type": "code",
      "source": [
        "def get_wordnet_pos(word):\n",
        "    tag = nltk.pos_tag([word])[0][1][0].upper()\n",
        "    tag_dict = {\"J\": wordnet.ADJ,\n",
        "                \"N\": wordnet.NOUN,\n",
        "                \"V\": wordnet.VERB,\n",
        "                \"R\": wordnet.ADV}\n",
        "    return tag_dict.get(tag, wordnet.NOUN)"
      ],
      "metadata": {
        "id": "W0iHyeEqZnL2"
      },
      "execution_count": 66,
      "outputs": []
    },
    {
      "cell_type": "code",
      "source": [
        "import numpy as np\n",
        "def get_tf_idf_cosine_similarity(job_desc, all_resumes):\n",
        "    tf_idf_vect = TfidfVectorizer(analyzer=stemmed_words)\n",
        "    tf_idf_desc_vector = tf_idf_vect.fit_transform([job_desc])\n",
        "    tf_idf_resume_vector = tf_idf_vect.transform(all_resumes)\n",
        "\n",
        "    cosine_similarity_list = []\n",
        "    for i in range(tf_idf_resume_vector.shape[0]):\n",
        "        desc_vector = np.asarray(tf_idf_desc_vector.todense())\n",
        "        resume_vector = np.asarray(tf_idf_resume_vector[i].todense())\n",
        "        cosine_similarity_list.append(cosine_similarity(desc_vector, resume_vector)[0][0])\n",
        "\n",
        "    return cosine_similarity_list"
      ],
      "metadata": {
        "id": "yCXHgDERZp9Z"
      },
      "execution_count": 67,
      "outputs": []
    },
    {
      "cell_type": "code",
      "source": [
        "with open('/content/drive/MyDrive/FeatureEngineering/JD_fullstack.txt','r',encoding = 'utf-8') as f:\n",
        "  file_desc_lst =  [r.replace('\\n', '') for r in f.readlines()]"
      ],
      "metadata": {
        "id": "w08ChNueZuAu"
      },
      "execution_count": 68,
      "outputs": []
    },
    {
      "cell_type": "code",
      "source": [
        "job_description = ''\n",
        "\n",
        "for i in file_desc_lst:\n",
        "  if len(job_description) == 0:\n",
        "    job_description = str(i)\n",
        "  else:\n",
        "    job_description = job_description + ' ' + str(i)"
      ],
      "metadata": {
        "id": "u5SkzDQVZ2Bc"
      },
      "execution_count": 69,
      "outputs": []
    },
    {
      "cell_type": "code",
      "source": [
        "job_description"
      ],
      "metadata": {
        "colab": {
          "base_uri": "https://localhost:8080/",
          "height": 140
        },
        "id": "lQ2hhzRxZ5Ts",
        "outputId": "7cfaa472-a8fe-44e0-eec7-57e3045449e1"
      },
      "execution_count": 70,
      "outputs": [
        {
          "output_type": "execute_result",
          "data": {
            "text/plain": [
              "\"Job Title: Full Stack Web Developer  We are looking for a talented Full Stack Web Developer to join our dynamic team. The ideal candidate will have a strong foundation in both front-end and back-end development, with a passion for creating responsive and user-friendly web applications.  Responsibilities: - Collaborate with the design team to implement user-friendly interfaces using HTML, CSS, and JavaScript (React, Angular, or Vue.js). - Develop robust server-side logic using Node.js, Express.js, and databases like MongoDB or MySQL. - Write clean, efficient, and maintainable code following industry best practices. - Ensure the responsiveness and cross-browser compatibility of web applications. - Collaborate with the DevOps team to deploy applications using Docker and Kubernetes. - Integrate RESTful APIs and GraphQL to fetch and update data efficiently. - Optimize application performance, troubleshoot issues, and perform debugging. - Participate in code reviews and provide constructive feedback to team members.  Requirements: - Proficiency in HTML, CSS, and JavaScript with experience in at least one modern framework (React, Angular, Vue.js). - Strong back-end development skills using Node.js and Express.js. - Familiarity with databases such as MongoDB and MySQL. - Experience with version control systems like Git and platforms like GitHub. - Understanding of RESTful API design principles and GraphQL. - Knowledge of Docker and Kubernetes for deployment. - Excellent problem-solving and debugging skills. - Strong collaboration and communication abilities.  While we value candidates who match our requirements closely, we also encourage those with a strong foundation in these technologies and a willingness to learn to apply.  If you're passionate about building innovative web applications and contributing to a collaborative team, we'd love to hear from you!\""
            ],
            "application/vnd.google.colaboratory.intrinsic+json": {
              "type": "string"
            }
          },
          "metadata": {},
          "execution_count": 70
        }
      ]
    },
    {
      "cell_type": "code",
      "source": [
        "all_resume_text = []\n",
        "\n",
        "for i in df.iloc[:].values:\n",
        "  s = ''\n",
        "  for j in list(i):\n",
        "    if len(s) == 0:\n",
        "      s = str(j)\n",
        "    else:\n",
        "      s = s + ' , ' + str(j)\n",
        "  all_resume_text.append(s)"
      ],
      "metadata": {
        "id": "AdAG_crdZ-Xv"
      },
      "execution_count": 71,
      "outputs": []
    },
    {
      "cell_type": "code",
      "source": [
        "all_resume_text"
      ],
      "metadata": {
        "colab": {
          "base_uri": "https://localhost:8080/"
        },
        "id": "uafaVcknaAWH",
        "outputId": "b23be155-1859-4346-aa28-90825ce7197f"
      },
      "execution_count": 72,
      "outputs": [
        {
          "output_type": "execute_result",
          "data": {
            "text/plain": [
              "[\"Prasad Nagar , ['nathan.johnson567@example.com', 'liam.jones789@outlook.com'] , ['1234567890', '2345678901'] , ['Python', 'Java', 'JavaScript', 'SQL', 'CSS'] , ('BTECH','2020') , 6\",\n",
              " \"AKSHAY DESHBHRATAR , ['hannah.davis890@gmail.com', 'jackson.thompson234@hotmail.com'] , ['3456789012', '4567890123'] , ['HTML', 'C++', 'C#', 'Ruby', 'PHP'] , ('BTECH','2020') , 5\",\n",
              " \"kaashiv infotech , ['olivia.martinez456@yahoo.com', 'abigail.white890@gmail.com'] , ['5678901234', '6789012345'] , ['Swift', 'Objective-C', 'React', 'Angular', 'Node.js'] , ('BTECH','2020') , 3\",\n",
              " \"Aaditya Singh , ['ethan.jackson345@example.com', 'sophia.miller678@yahoo.com'] , ['7890123456', '8901234567'] , ['Express.js', 'Django', 'Flask', 'Vue.js', 'Bootstrap'] , ('BTECH','2020') , 1\",\n",
              " \"Aakash Singh , ['avery.anderson123@hotmail.com', 'mia.wilson456@gmail.com'] , ['9012345678', '0123456789'] , ['MongoDB', 'MySQL', 'PostgreSQL', 'SQLite', 'Git'] , ('BTECH','2020') , 7\",\n",
              " \"Aashish Kumar , ['logan.taylor789@example.com', 'harper.martin234@outlook.com'] , ['2345678901', '3456789012'] , ['GitHub', 'Linux', 'Unix', 'AWS', 'Azure'] , ('BTECH','2020') , 6\",\n",
              " \"Aastha Patel , ['samuel.anderson567@yahoo.com', 'emily.harris890@gmail.com'] , ['4567890123', '5678901234'] , ['Docker', 'Kubernetes', 'RESTful API', 'GraphQL', 'JSON'] , ('BTECH','2020') , 5\",\n",
              " \"Abbas Ismail , ['aiden.johnson345@example.com', 'scarlett.roberts678@hotmail.com'] , ['6789012345', '7890123456'] , ['XML', 'OAuth', 'JWT', 'Ruby on Rails', 'ASP.NET'] , ('BTECH','2020') , 3\",\n",
              " \"Abdeali Tin , ['carter.brown123@gmail.com', 'ava.davis456@yahoo.com'] , ['8901234567', '9012345678'] , ['TensorFlow', 'PyTorch', 'Vue.js', 'Ember.js', 'Redux'] , ('BTECH','2020') , 1\",\n",
              " \"Abdul Rahim , ['lucas.wilson789@outlook.com', 'zoey.thompson234@gmail.com'] , ['0123456789', '1234567890'] , ['Vuex', 'Nginx', 'Apache', 'Jenkins', 'Travis CI'] , ('BTECH','2020') , 7\",\n",
              " \"Abhilash Banerjee , ['nathan.johnson567@example.com', 'liam.jones789@outlook.com'] , ['2345678901', '3456789012'] , ['Webpack', 'Grunt', 'SASS', 'LESS', 'Microservices'] , ('BTECH','2020') , 6\",\n",
              " \"Abhilash Kalva , ['hannah.davis890@gmail.com', 'jackson.thompson234@hotmail.com'] , ['4567890123', '5678901234'] , ['Monolithic', 'Scrum', 'Kanban', 'Agile', 'Waterfall'] , ('BTECH','2020') , 5\",\n",
              " \"ADDIT IONAL , ['olivia.martinez456@yahoo.com', 'abigail.white890@gmail.com'] , ['6789012345', '7890123456'] , ['JIRA', 'Trello', 'JUnit', 'TestNG', 'Bash Scripting'] , ('BTECH','2020') , 3\",\n",
              " \"Abhishek Sharma , ['ethan.jackson345@example.com', 'sophia.miller678@yahoo.com'] , ['8901234567', '9012345678'] , ['PowerShell', 'Firebase', 'Firestore', 'Unity', 'Unreal Engine'] , ('BTECH','2020') , 1\",\n",
              " \"Abhishek Kumar , ['avery.anderson123@hotmail.com', 'mia.wilson456@gmail.com'] , ['0123456789', '1234567890'] , ['Jest', 'Mocha', 'Elasticsearch', 'Solr', 'Rust'] , ('BTECH','2020') , 7\",\n",
              " \"Adarsh CHATURVEDI , ['logan.taylor789@example.com', 'harper.martin234@outlook.com'] , ['2345678901', '3456789012'] , ['Go', 'Kotlin', 'Scala', 'GraphQL', 'REST'] , ('BTECH','2021') , 5\",\n",
              " \"Adarsh Kocherla , ['samuel.anderson567@yahoo.com', 'emily.harris890@gmail.com'] , ['4567890123', '5678901234'] , ['Flux', 'MobX', 'Vue.js', 'Backbone.js', 'jQuery'] , ('BTECH','2020') , 3\",\n",
              " \"ADDIT IONAL , ['aiden.johnson345@example.com', 'scarlett.roberts678@hotmail.com'] , ['6789012345', '7890123456'] , ['Lodash', 'Flutter', 'Xamarin'] , ('BTECH','2020') , 1\",\n",
              " \"Aditya Pande , ['carter.brown123@gmail.com', 'ava.davis456@yahoo.com'] , ['8901234567', '9012345678'] , ['TensorFlow', 'PyTorch', 'Vue.js', 'Ember.js', 'Redux'] , ('BTECH','2020') , 7\"]"
            ]
          },
          "metadata": {},
          "execution_count": 72
        }
      ]
    },
    {
      "cell_type": "code",
      "source": [
        "import nltk"
      ],
      "metadata": {
        "id": "E74zzoW6aQkW"
      },
      "execution_count": 73,
      "outputs": []
    },
    {
      "cell_type": "code",
      "source": [
        "nltk.download('stopwords')"
      ],
      "metadata": {
        "colab": {
          "base_uri": "https://localhost:8080/"
        },
        "id": "xN7_euU3aSiR",
        "outputId": "1fb74bf7-75a7-4a32-c058-b147a40cf1bc"
      },
      "execution_count": 74,
      "outputs": [
        {
          "output_type": "stream",
          "name": "stderr",
          "text": [
            "[nltk_data] Downloading package stopwords to /root/nltk_data...\n",
            "[nltk_data]   Package stopwords is already up-to-date!\n"
          ]
        },
        {
          "output_type": "execute_result",
          "data": {
            "text/plain": [
              "True"
            ]
          },
          "metadata": {},
          "execution_count": 74
        }
      ]
    },
    {
      "cell_type": "code",
      "source": [
        "nltk.download('averaged_perceptron_tagger')"
      ],
      "metadata": {
        "colab": {
          "base_uri": "https://localhost:8080/"
        },
        "id": "EX-Fy4bzaUuH",
        "outputId": "57a88dae-c69e-44c2-c7d2-92bcc7b604a8"
      },
      "execution_count": 75,
      "outputs": [
        {
          "output_type": "stream",
          "name": "stderr",
          "text": [
            "[nltk_data] Downloading package averaged_perceptron_tagger to\n",
            "[nltk_data]     /root/nltk_data...\n",
            "[nltk_data]   Package averaged_perceptron_tagger is already up-to-\n",
            "[nltk_data]       date!\n"
          ]
        },
        {
          "output_type": "execute_result",
          "data": {
            "text/plain": [
              "True"
            ]
          },
          "metadata": {},
          "execution_count": 75
        }
      ]
    },
    {
      "cell_type": "code",
      "source": [
        "nltk.download('wordnet')"
      ],
      "metadata": {
        "colab": {
          "base_uri": "https://localhost:8080/"
        },
        "id": "hKabAhUAaXic",
        "outputId": "337b4678-94fe-4055-dbb5-70fa68624a21"
      },
      "execution_count": 76,
      "outputs": [
        {
          "output_type": "stream",
          "name": "stderr",
          "text": [
            "[nltk_data] Downloading package wordnet to /root/nltk_data...\n",
            "[nltk_data]   Package wordnet is already up-to-date!\n"
          ]
        },
        {
          "output_type": "execute_result",
          "data": {
            "text/plain": [
              "True"
            ]
          },
          "metadata": {},
          "execution_count": 76
        }
      ]
    },
    {
      "cell_type": "code",
      "source": [
        "cos_sim_list = get_tf_idf_cosine_similarity(job_description, all_resume_text)"
      ],
      "metadata": {
        "id": "FU2WejZqaZ5-"
      },
      "execution_count": 77,
      "outputs": []
    },
    {
      "cell_type": "code",
      "source": [
        "zipped_resume_rating = zip(cos_sim_list,df_cp.Name,[x for x in range(len(df))])\n",
        "sorted_resume_rating_list = sorted(zipped_resume_rating, key = lambda x: x[0], reverse=True)"
      ],
      "metadata": {
        "id": "MTmgYabuacom"
      },
      "execution_count": 78,
      "outputs": []
    },
    {
      "cell_type": "code",
      "source": [
        "resume_score = [round(x*100,2) for x in cos_sim_list]\n",
        "pd.concat([df_cp.Name, pd.DataFrame(resume_score, columns=['resume_score(%)'])], axis=1).sort_values(by=['resume_score(%)'],ascending=False)"
      ],
      "metadata": {
        "colab": {
          "base_uri": "https://localhost:8080/",
          "height": 645
        },
        "id": "wx2o4C2_aiEG",
        "outputId": "31f2b916-f9c2-4f9f-b369-7d47f0475d48"
      },
      "execution_count": 79,
      "outputs": [
        {
          "output_type": "execute_result",
          "data": {
            "text/plain": [
              "                  Name  resume_score(%)\n",
              "3        Aaditya Singh            33.73\n",
              "18        Aditya Pande            32.33\n",
              "8          Abdeali Tin            32.33\n",
              "16     Adarsh Kocherla            32.33\n",
              "2     kaashiv infotech            30.98\n",
              "6         Aastha Patel            20.78\n",
              "4         Aakash Singh            14.91\n",
              "0         Prasad Nagar            14.61\n",
              "1   AKSHAY DESHBHRATAR            10.33\n",
              "15   Adarsh CHATURVEDI            10.33\n",
              "5        Aashish Kumar             5.16\n",
              "7         Abbas Ismail             0.00\n",
              "10   Abhilash Banerjee             0.00\n",
              "11      Abhilash Kalva             0.00\n",
              "12         ADDIT IONAL             0.00\n",
              "13     Abhishek Sharma             0.00\n",
              "14      Abhishek Kumar             0.00\n",
              "17         ADDIT IONAL             0.00\n",
              "9          Abdul Rahim             0.00"
            ],
            "text/html": [
              "\n",
              "  <div id=\"df-ecadfa18-d7b2-448c-b0ee-9eecdf55fd38\" class=\"colab-df-container\">\n",
              "    <div>\n",
              "<style scoped>\n",
              "    .dataframe tbody tr th:only-of-type {\n",
              "        vertical-align: middle;\n",
              "    }\n",
              "\n",
              "    .dataframe tbody tr th {\n",
              "        vertical-align: top;\n",
              "    }\n",
              "\n",
              "    .dataframe thead th {\n",
              "        text-align: right;\n",
              "    }\n",
              "</style>\n",
              "<table border=\"1\" class=\"dataframe\">\n",
              "  <thead>\n",
              "    <tr style=\"text-align: right;\">\n",
              "      <th></th>\n",
              "      <th>Name</th>\n",
              "      <th>resume_score(%)</th>\n",
              "    </tr>\n",
              "  </thead>\n",
              "  <tbody>\n",
              "    <tr>\n",
              "      <th>3</th>\n",
              "      <td>Aaditya Singh</td>\n",
              "      <td>33.73</td>\n",
              "    </tr>\n",
              "    <tr>\n",
              "      <th>18</th>\n",
              "      <td>Aditya Pande</td>\n",
              "      <td>32.33</td>\n",
              "    </tr>\n",
              "    <tr>\n",
              "      <th>8</th>\n",
              "      <td>Abdeali Tin</td>\n",
              "      <td>32.33</td>\n",
              "    </tr>\n",
              "    <tr>\n",
              "      <th>16</th>\n",
              "      <td>Adarsh Kocherla</td>\n",
              "      <td>32.33</td>\n",
              "    </tr>\n",
              "    <tr>\n",
              "      <th>2</th>\n",
              "      <td>kaashiv infotech</td>\n",
              "      <td>30.98</td>\n",
              "    </tr>\n",
              "    <tr>\n",
              "      <th>6</th>\n",
              "      <td>Aastha Patel</td>\n",
              "      <td>20.78</td>\n",
              "    </tr>\n",
              "    <tr>\n",
              "      <th>4</th>\n",
              "      <td>Aakash Singh</td>\n",
              "      <td>14.91</td>\n",
              "    </tr>\n",
              "    <tr>\n",
              "      <th>0</th>\n",
              "      <td>Prasad Nagar</td>\n",
              "      <td>14.61</td>\n",
              "    </tr>\n",
              "    <tr>\n",
              "      <th>1</th>\n",
              "      <td>AKSHAY DESHBHRATAR</td>\n",
              "      <td>10.33</td>\n",
              "    </tr>\n",
              "    <tr>\n",
              "      <th>15</th>\n",
              "      <td>Adarsh CHATURVEDI</td>\n",
              "      <td>10.33</td>\n",
              "    </tr>\n",
              "    <tr>\n",
              "      <th>5</th>\n",
              "      <td>Aashish Kumar</td>\n",
              "      <td>5.16</td>\n",
              "    </tr>\n",
              "    <tr>\n",
              "      <th>7</th>\n",
              "      <td>Abbas Ismail</td>\n",
              "      <td>0.00</td>\n",
              "    </tr>\n",
              "    <tr>\n",
              "      <th>10</th>\n",
              "      <td>Abhilash Banerjee</td>\n",
              "      <td>0.00</td>\n",
              "    </tr>\n",
              "    <tr>\n",
              "      <th>11</th>\n",
              "      <td>Abhilash Kalva</td>\n",
              "      <td>0.00</td>\n",
              "    </tr>\n",
              "    <tr>\n",
              "      <th>12</th>\n",
              "      <td>ADDIT IONAL</td>\n",
              "      <td>0.00</td>\n",
              "    </tr>\n",
              "    <tr>\n",
              "      <th>13</th>\n",
              "      <td>Abhishek Sharma</td>\n",
              "      <td>0.00</td>\n",
              "    </tr>\n",
              "    <tr>\n",
              "      <th>14</th>\n",
              "      <td>Abhishek Kumar</td>\n",
              "      <td>0.00</td>\n",
              "    </tr>\n",
              "    <tr>\n",
              "      <th>17</th>\n",
              "      <td>ADDIT IONAL</td>\n",
              "      <td>0.00</td>\n",
              "    </tr>\n",
              "    <tr>\n",
              "      <th>9</th>\n",
              "      <td>Abdul Rahim</td>\n",
              "      <td>0.00</td>\n",
              "    </tr>\n",
              "  </tbody>\n",
              "</table>\n",
              "</div>\n",
              "    <div class=\"colab-df-buttons\">\n",
              "\n",
              "  <div class=\"colab-df-container\">\n",
              "    <button class=\"colab-df-convert\" onclick=\"convertToInteractive('df-ecadfa18-d7b2-448c-b0ee-9eecdf55fd38')\"\n",
              "            title=\"Convert this dataframe to an interactive table.\"\n",
              "            style=\"display:none;\">\n",
              "\n",
              "  <svg xmlns=\"http://www.w3.org/2000/svg\" height=\"24px\" viewBox=\"0 -960 960 960\">\n",
              "    <path d=\"M120-120v-720h720v720H120Zm60-500h600v-160H180v160Zm220 220h160v-160H400v160Zm0 220h160v-160H400v160ZM180-400h160v-160H180v160Zm440 0h160v-160H620v160ZM180-180h160v-160H180v160Zm440 0h160v-160H620v160Z\"/>\n",
              "  </svg>\n",
              "    </button>\n",
              "\n",
              "  <style>\n",
              "    .colab-df-container {\n",
              "      display:flex;\n",
              "      gap: 12px;\n",
              "    }\n",
              "\n",
              "    .colab-df-convert {\n",
              "      background-color: #E8F0FE;\n",
              "      border: none;\n",
              "      border-radius: 50%;\n",
              "      cursor: pointer;\n",
              "      display: none;\n",
              "      fill: #1967D2;\n",
              "      height: 32px;\n",
              "      padding: 0 0 0 0;\n",
              "      width: 32px;\n",
              "    }\n",
              "\n",
              "    .colab-df-convert:hover {\n",
              "      background-color: #E2EBFA;\n",
              "      box-shadow: 0px 1px 2px rgba(60, 64, 67, 0.3), 0px 1px 3px 1px rgba(60, 64, 67, 0.15);\n",
              "      fill: #174EA6;\n",
              "    }\n",
              "\n",
              "    .colab-df-buttons div {\n",
              "      margin-bottom: 4px;\n",
              "    }\n",
              "\n",
              "    [theme=dark] .colab-df-convert {\n",
              "      background-color: #3B4455;\n",
              "      fill: #D2E3FC;\n",
              "    }\n",
              "\n",
              "    [theme=dark] .colab-df-convert:hover {\n",
              "      background-color: #434B5C;\n",
              "      box-shadow: 0px 1px 3px 1px rgba(0, 0, 0, 0.15);\n",
              "      filter: drop-shadow(0px 1px 2px rgba(0, 0, 0, 0.3));\n",
              "      fill: #FFFFFF;\n",
              "    }\n",
              "  </style>\n",
              "\n",
              "    <script>\n",
              "      const buttonEl =\n",
              "        document.querySelector('#df-ecadfa18-d7b2-448c-b0ee-9eecdf55fd38 button.colab-df-convert');\n",
              "      buttonEl.style.display =\n",
              "        google.colab.kernel.accessAllowed ? 'block' : 'none';\n",
              "\n",
              "      async function convertToInteractive(key) {\n",
              "        const element = document.querySelector('#df-ecadfa18-d7b2-448c-b0ee-9eecdf55fd38');\n",
              "        const dataTable =\n",
              "          await google.colab.kernel.invokeFunction('convertToInteractive',\n",
              "                                                    [key], {});\n",
              "        if (!dataTable) return;\n",
              "\n",
              "        const docLinkHtml = 'Like what you see? Visit the ' +\n",
              "          '<a target=\"_blank\" href=https://colab.research.google.com/notebooks/data_table.ipynb>data table notebook</a>'\n",
              "          + ' to learn more about interactive tables.';\n",
              "        element.innerHTML = '';\n",
              "        dataTable['output_type'] = 'display_data';\n",
              "        await google.colab.output.renderOutput(dataTable, element);\n",
              "        const docLink = document.createElement('div');\n",
              "        docLink.innerHTML = docLinkHtml;\n",
              "        element.appendChild(docLink);\n",
              "      }\n",
              "    </script>\n",
              "  </div>\n",
              "\n",
              "\n",
              "<div id=\"df-7fdda767-6081-47a2-ba37-52687698601e\">\n",
              "  <button class=\"colab-df-quickchart\" onclick=\"quickchart('df-7fdda767-6081-47a2-ba37-52687698601e')\"\n",
              "            title=\"Suggest charts.\"\n",
              "            style=\"display:none;\">\n",
              "\n",
              "<svg xmlns=\"http://www.w3.org/2000/svg\" height=\"24px\"viewBox=\"0 0 24 24\"\n",
              "     width=\"24px\">\n",
              "    <g>\n",
              "        <path d=\"M19 3H5c-1.1 0-2 .9-2 2v14c0 1.1.9 2 2 2h14c1.1 0 2-.9 2-2V5c0-1.1-.9-2-2-2zM9 17H7v-7h2v7zm4 0h-2V7h2v10zm4 0h-2v-4h2v4z\"/>\n",
              "    </g>\n",
              "</svg>\n",
              "  </button>\n",
              "\n",
              "<style>\n",
              "  .colab-df-quickchart {\n",
              "    background-color: #E8F0FE;\n",
              "    border: none;\n",
              "    border-radius: 50%;\n",
              "    cursor: pointer;\n",
              "    display: none;\n",
              "    fill: #1967D2;\n",
              "    height: 32px;\n",
              "    padding: 0 0 0 0;\n",
              "    width: 32px;\n",
              "  }\n",
              "\n",
              "  .colab-df-quickchart:hover {\n",
              "    background-color: #E2EBFA;\n",
              "    box-shadow: 0px 1px 2px rgba(60, 64, 67, 0.3), 0px 1px 3px 1px rgba(60, 64, 67, 0.15);\n",
              "    fill: #174EA6;\n",
              "  }\n",
              "\n",
              "  [theme=dark] .colab-df-quickchart {\n",
              "    background-color: #3B4455;\n",
              "    fill: #D2E3FC;\n",
              "  }\n",
              "\n",
              "  [theme=dark] .colab-df-quickchart:hover {\n",
              "    background-color: #434B5C;\n",
              "    box-shadow: 0px 1px 3px 1px rgba(0, 0, 0, 0.15);\n",
              "    filter: drop-shadow(0px 1px 2px rgba(0, 0, 0, 0.3));\n",
              "    fill: #FFFFFF;\n",
              "  }\n",
              "</style>\n",
              "\n",
              "  <script>\n",
              "    async function quickchart(key) {\n",
              "      const charts = await google.colab.kernel.invokeFunction(\n",
              "          'suggestCharts', [key], {});\n",
              "    }\n",
              "    (() => {\n",
              "      let quickchartButtonEl =\n",
              "        document.querySelector('#df-7fdda767-6081-47a2-ba37-52687698601e button');\n",
              "      quickchartButtonEl.style.display =\n",
              "        google.colab.kernel.accessAllowed ? 'block' : 'none';\n",
              "    })();\n",
              "  </script>\n",
              "</div>\n",
              "    </div>\n",
              "  </div>\n"
            ]
          },
          "metadata": {},
          "execution_count": 79
        }
      ]
    },
    {
      "cell_type": "code",
      "source": [
        "top_10_resumes = pd.concat([df_cp.Name, pd.DataFrame(resume_score, columns=['resume_score(%)'])], axis=1).nlargest(10, 'resume_score(%)')\n",
        "top_10_resumes.reset_index(drop=True, inplace=True)\n",
        "top_10_resumes.index += 1\n",
        "top_10_resumes"
      ],
      "metadata": {
        "colab": {
          "base_uri": "https://localhost:8080/",
          "height": 363
        },
        "id": "spMz3QjCasp6",
        "outputId": "8cfd5ff5-1bf6-45b8-a95d-c27c0782864f"
      },
      "execution_count": 80,
      "outputs": [
        {
          "output_type": "execute_result",
          "data": {
            "text/plain": [
              "                  Name  resume_score(%)\n",
              "1        Aaditya Singh            33.73\n",
              "2          Abdeali Tin            32.33\n",
              "3      Adarsh Kocherla            32.33\n",
              "4         Aditya Pande            32.33\n",
              "5     kaashiv infotech            30.98\n",
              "6         Aastha Patel            20.78\n",
              "7         Aakash Singh            14.91\n",
              "8         Prasad Nagar            14.61\n",
              "9   AKSHAY DESHBHRATAR            10.33\n",
              "10   Adarsh CHATURVEDI            10.33"
            ],
            "text/html": [
              "\n",
              "  <div id=\"df-22e33265-164e-482c-b4a7-db71617140b5\" class=\"colab-df-container\">\n",
              "    <div>\n",
              "<style scoped>\n",
              "    .dataframe tbody tr th:only-of-type {\n",
              "        vertical-align: middle;\n",
              "    }\n",
              "\n",
              "    .dataframe tbody tr th {\n",
              "        vertical-align: top;\n",
              "    }\n",
              "\n",
              "    .dataframe thead th {\n",
              "        text-align: right;\n",
              "    }\n",
              "</style>\n",
              "<table border=\"1\" class=\"dataframe\">\n",
              "  <thead>\n",
              "    <tr style=\"text-align: right;\">\n",
              "      <th></th>\n",
              "      <th>Name</th>\n",
              "      <th>resume_score(%)</th>\n",
              "    </tr>\n",
              "  </thead>\n",
              "  <tbody>\n",
              "    <tr>\n",
              "      <th>1</th>\n",
              "      <td>Aaditya Singh</td>\n",
              "      <td>33.73</td>\n",
              "    </tr>\n",
              "    <tr>\n",
              "      <th>2</th>\n",
              "      <td>Abdeali Tin</td>\n",
              "      <td>32.33</td>\n",
              "    </tr>\n",
              "    <tr>\n",
              "      <th>3</th>\n",
              "      <td>Adarsh Kocherla</td>\n",
              "      <td>32.33</td>\n",
              "    </tr>\n",
              "    <tr>\n",
              "      <th>4</th>\n",
              "      <td>Aditya Pande</td>\n",
              "      <td>32.33</td>\n",
              "    </tr>\n",
              "    <tr>\n",
              "      <th>5</th>\n",
              "      <td>kaashiv infotech</td>\n",
              "      <td>30.98</td>\n",
              "    </tr>\n",
              "    <tr>\n",
              "      <th>6</th>\n",
              "      <td>Aastha Patel</td>\n",
              "      <td>20.78</td>\n",
              "    </tr>\n",
              "    <tr>\n",
              "      <th>7</th>\n",
              "      <td>Aakash Singh</td>\n",
              "      <td>14.91</td>\n",
              "    </tr>\n",
              "    <tr>\n",
              "      <th>8</th>\n",
              "      <td>Prasad Nagar</td>\n",
              "      <td>14.61</td>\n",
              "    </tr>\n",
              "    <tr>\n",
              "      <th>9</th>\n",
              "      <td>AKSHAY DESHBHRATAR</td>\n",
              "      <td>10.33</td>\n",
              "    </tr>\n",
              "    <tr>\n",
              "      <th>10</th>\n",
              "      <td>Adarsh CHATURVEDI</td>\n",
              "      <td>10.33</td>\n",
              "    </tr>\n",
              "  </tbody>\n",
              "</table>\n",
              "</div>\n",
              "    <div class=\"colab-df-buttons\">\n",
              "\n",
              "  <div class=\"colab-df-container\">\n",
              "    <button class=\"colab-df-convert\" onclick=\"convertToInteractive('df-22e33265-164e-482c-b4a7-db71617140b5')\"\n",
              "            title=\"Convert this dataframe to an interactive table.\"\n",
              "            style=\"display:none;\">\n",
              "\n",
              "  <svg xmlns=\"http://www.w3.org/2000/svg\" height=\"24px\" viewBox=\"0 -960 960 960\">\n",
              "    <path d=\"M120-120v-720h720v720H120Zm60-500h600v-160H180v160Zm220 220h160v-160H400v160Zm0 220h160v-160H400v160ZM180-400h160v-160H180v160Zm440 0h160v-160H620v160ZM180-180h160v-160H180v160Zm440 0h160v-160H620v160Z\"/>\n",
              "  </svg>\n",
              "    </button>\n",
              "\n",
              "  <style>\n",
              "    .colab-df-container {\n",
              "      display:flex;\n",
              "      gap: 12px;\n",
              "    }\n",
              "\n",
              "    .colab-df-convert {\n",
              "      background-color: #E8F0FE;\n",
              "      border: none;\n",
              "      border-radius: 50%;\n",
              "      cursor: pointer;\n",
              "      display: none;\n",
              "      fill: #1967D2;\n",
              "      height: 32px;\n",
              "      padding: 0 0 0 0;\n",
              "      width: 32px;\n",
              "    }\n",
              "\n",
              "    .colab-df-convert:hover {\n",
              "      background-color: #E2EBFA;\n",
              "      box-shadow: 0px 1px 2px rgba(60, 64, 67, 0.3), 0px 1px 3px 1px rgba(60, 64, 67, 0.15);\n",
              "      fill: #174EA6;\n",
              "    }\n",
              "\n",
              "    .colab-df-buttons div {\n",
              "      margin-bottom: 4px;\n",
              "    }\n",
              "\n",
              "    [theme=dark] .colab-df-convert {\n",
              "      background-color: #3B4455;\n",
              "      fill: #D2E3FC;\n",
              "    }\n",
              "\n",
              "    [theme=dark] .colab-df-convert:hover {\n",
              "      background-color: #434B5C;\n",
              "      box-shadow: 0px 1px 3px 1px rgba(0, 0, 0, 0.15);\n",
              "      filter: drop-shadow(0px 1px 2px rgba(0, 0, 0, 0.3));\n",
              "      fill: #FFFFFF;\n",
              "    }\n",
              "  </style>\n",
              "\n",
              "    <script>\n",
              "      const buttonEl =\n",
              "        document.querySelector('#df-22e33265-164e-482c-b4a7-db71617140b5 button.colab-df-convert');\n",
              "      buttonEl.style.display =\n",
              "        google.colab.kernel.accessAllowed ? 'block' : 'none';\n",
              "\n",
              "      async function convertToInteractive(key) {\n",
              "        const element = document.querySelector('#df-22e33265-164e-482c-b4a7-db71617140b5');\n",
              "        const dataTable =\n",
              "          await google.colab.kernel.invokeFunction('convertToInteractive',\n",
              "                                                    [key], {});\n",
              "        if (!dataTable) return;\n",
              "\n",
              "        const docLinkHtml = 'Like what you see? Visit the ' +\n",
              "          '<a target=\"_blank\" href=https://colab.research.google.com/notebooks/data_table.ipynb>data table notebook</a>'\n",
              "          + ' to learn more about interactive tables.';\n",
              "        element.innerHTML = '';\n",
              "        dataTable['output_type'] = 'display_data';\n",
              "        await google.colab.output.renderOutput(dataTable, element);\n",
              "        const docLink = document.createElement('div');\n",
              "        docLink.innerHTML = docLinkHtml;\n",
              "        element.appendChild(docLink);\n",
              "      }\n",
              "    </script>\n",
              "  </div>\n",
              "\n",
              "\n",
              "<div id=\"df-f3a6885c-63a5-4051-aaf7-572b1bf7ddbd\">\n",
              "  <button class=\"colab-df-quickchart\" onclick=\"quickchart('df-f3a6885c-63a5-4051-aaf7-572b1bf7ddbd')\"\n",
              "            title=\"Suggest charts.\"\n",
              "            style=\"display:none;\">\n",
              "\n",
              "<svg xmlns=\"http://www.w3.org/2000/svg\" height=\"24px\"viewBox=\"0 0 24 24\"\n",
              "     width=\"24px\">\n",
              "    <g>\n",
              "        <path d=\"M19 3H5c-1.1 0-2 .9-2 2v14c0 1.1.9 2 2 2h14c1.1 0 2-.9 2-2V5c0-1.1-.9-2-2-2zM9 17H7v-7h2v7zm4 0h-2V7h2v10zm4 0h-2v-4h2v4z\"/>\n",
              "    </g>\n",
              "</svg>\n",
              "  </button>\n",
              "\n",
              "<style>\n",
              "  .colab-df-quickchart {\n",
              "    background-color: #E8F0FE;\n",
              "    border: none;\n",
              "    border-radius: 50%;\n",
              "    cursor: pointer;\n",
              "    display: none;\n",
              "    fill: #1967D2;\n",
              "    height: 32px;\n",
              "    padding: 0 0 0 0;\n",
              "    width: 32px;\n",
              "  }\n",
              "\n",
              "  .colab-df-quickchart:hover {\n",
              "    background-color: #E2EBFA;\n",
              "    box-shadow: 0px 1px 2px rgba(60, 64, 67, 0.3), 0px 1px 3px 1px rgba(60, 64, 67, 0.15);\n",
              "    fill: #174EA6;\n",
              "  }\n",
              "\n",
              "  [theme=dark] .colab-df-quickchart {\n",
              "    background-color: #3B4455;\n",
              "    fill: #D2E3FC;\n",
              "  }\n",
              "\n",
              "  [theme=dark] .colab-df-quickchart:hover {\n",
              "    background-color: #434B5C;\n",
              "    box-shadow: 0px 1px 3px 1px rgba(0, 0, 0, 0.15);\n",
              "    filter: drop-shadow(0px 1px 2px rgba(0, 0, 0, 0.3));\n",
              "    fill: #FFFFFF;\n",
              "  }\n",
              "</style>\n",
              "\n",
              "  <script>\n",
              "    async function quickchart(key) {\n",
              "      const charts = await google.colab.kernel.invokeFunction(\n",
              "          'suggestCharts', [key], {});\n",
              "    }\n",
              "    (() => {\n",
              "      let quickchartButtonEl =\n",
              "        document.querySelector('#df-f3a6885c-63a5-4051-aaf7-572b1bf7ddbd button');\n",
              "      quickchartButtonEl.style.display =\n",
              "        google.colab.kernel.accessAllowed ? 'block' : 'none';\n",
              "    })();\n",
              "  </script>\n",
              "</div>\n",
              "    </div>\n",
              "  </div>\n"
            ]
          },
          "metadata": {},
          "execution_count": 80
        }
      ]
    }
  ]
}